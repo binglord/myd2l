{
 "cells": [
  {
   "cell_type": "markdown",
   "id": "e717996b",
   "metadata": {},
   "source": [
    "正如 2.4节中所说，求导是⼏乎所有深度学习优化算法的关键步骤。虽然求导的计算很简单，只需要⼀些基本的微积分。但对于复杂的模型，⼿⼯进⾏更新是⼀件很痛苦的事情（⽽且经常容易出错）。\n",
    "\n",
    "深度学习框架通过⾃动计算导数，即⾃动微分（automatic differentiation）来加快求导。\n",
    "\n",
    "实际中，根据设计好的模型，系统会构建⼀个计算图（computational graph），来跟踪计算是哪些数据通过哪些操作组合起来产⽣输出。\n",
    "\n",
    "⾃动微分使系统能够随后反向传播梯度。这⾥，反向传播（backpropagate）意味着跟踪整个计算图，填充关于每个参数的偏导数。\n",
    "\n",
    "### 2.3.1 简单的例子\n",
    "我们对函数$y = 2X^TX$ 关于列向量 $X$ 求导。⾸先，我们创建变量x并为其分配⼀个初始值。"
   ]
  },
  {
   "cell_type": "code",
   "execution_count": 18,
   "id": "49cf3a71",
   "metadata": {},
   "outputs": [
    {
     "data": {
      "text/plain": [
       "tensor([0., 1., 2., 3.])"
      ]
     },
     "execution_count": 18,
     "metadata": {},
     "output_type": "execute_result"
    }
   ],
   "source": [
    "import torch\n",
    "\n",
    "x = torch.arange(4.0)\n",
    "x"
   ]
  },
  {
   "cell_type": "markdown",
   "id": "da7624ba",
   "metadata": {},
   "source": [
    "在我们计算y关于x的梯度之前，需要⼀个地⽅来存储梯度。\n",
    "\n",
    "重要的是，我们不会在每次对⼀个参数求导时都分配新的内存。因为我们经常会成千上万次地更新相同的参数，每次都分配新的内存可能很快就会将内存耗尽。\n",
    "\n",
    "注意，⼀个标量函数关于向量x的梯度是向量，并且与x具有相同的形状。"
   ]
  },
  {
   "cell_type": "code",
   "execution_count": 19,
   "id": "e188c5fc",
   "metadata": {},
   "outputs": [],
   "source": [
    "x.requires_grad_(True) # 等价于x=torch.arange(4.0,requires_grad=True)\n",
    "x.grad # 默认值是None"
   ]
  },
  {
   "cell_type": "markdown",
   "id": "f666cc79",
   "metadata": {},
   "source": [
    "现在计算y"
   ]
  },
  {
   "cell_type": "code",
   "execution_count": 20,
   "id": "9ba22458",
   "metadata": {},
   "outputs": [
    {
     "name": "stdout",
     "output_type": "stream",
     "text": [
      "tensor(28., grad_fn=<MulBackward0>)\n"
     ]
    }
   ],
   "source": [
    "y = 2 * torch.dot(x, x)\n",
    "print(y)"
   ]
  },
  {
   "cell_type": "markdown",
   "id": "df68d980",
   "metadata": {},
   "source": [
    "x是⼀个⻓度为4的向量，计算x和x的点积，得到了我们赋值给y的标量输出。\n",
    "\n",
    "接下来，通过调⽤反向传播函数来⾃动计算y关于x每个分量的梯度，并打印这些梯度。"
   ]
  },
  {
   "cell_type": "code",
   "execution_count": 21,
   "id": "03d8c665",
   "metadata": {},
   "outputs": [
    {
     "data": {
      "text/plain": [
       "tensor([ 0.,  4.,  8., 12.])"
      ]
     },
     "execution_count": 21,
     "metadata": {},
     "output_type": "execute_result"
    }
   ],
   "source": [
    "y.backward()\n",
    "x.grad"
   ]
  },
  {
   "cell_type": "markdown",
   "id": "6fc53f0f",
   "metadata": {},
   "source": [
    "函数$y = 2X^TX$ 关于X的梯度应为4X\n",
    "\n",
    "让我们快速验证这个梯度是否计算正确。"
   ]
  },
  {
   "cell_type": "code",
   "execution_count": 22,
   "id": "7e3134a2",
   "metadata": {},
   "outputs": [
    {
     "data": {
      "text/plain": [
       "tensor([True, True, True, True])"
      ]
     },
     "execution_count": 22,
     "metadata": {},
     "output_type": "execute_result"
    }
   ],
   "source": [
    "x.grad == 4 * x"
   ]
  },
  {
   "cell_type": "markdown",
   "id": "e2c35025",
   "metadata": {},
   "source": [
    "现在计算x的另一个函数"
   ]
  },
  {
   "cell_type": "code",
   "execution_count": 25,
   "id": "3a763bf0",
   "metadata": {},
   "outputs": [
    {
     "name": "stdout",
     "output_type": "stream",
     "text": [
      "tensor([0., 1., 2., 3.], requires_grad=True)\n",
      "tensor(6., grad_fn=<SumBackward0>)\n"
     ]
    },
    {
     "data": {
      "text/plain": [
       "tensor([1., 1., 1., 1.])"
      ]
     },
     "execution_count": 25,
     "metadata": {},
     "output_type": "execute_result"
    }
   ],
   "source": [
    "# 在默认情况下， PyTorch会累积梯度，我们需要清除之前的值\n",
    "x.grad.zero_()\n",
    "y = x.sum()\n",
    "y.backward()\n",
    "x.grad"
   ]
  },
  {
   "cell_type": "markdown",
   "id": "f7423abc",
   "metadata": {},
   "source": [
    "### 2.5.2 非标量变量的反向传播\n",
    "当y不是标量时，向量y关于向量x的导数的最⾃然解释是⼀个矩阵。对于⾼阶和⾼维的y和x，求导的结果可以是⼀个⾼阶张量。\n",
    "\n",
    "然⽽，虽然这些更奇特的对象确实出现在⾼级机器学习中（包括深度学习中），但当调⽤向量的反向计算时，我们通常会试图计算⼀批训练样本中每个组成部分的损失函数的导数。\n",
    "\n",
    "这⾥，我们的⽬的不是计算微分矩阵，⽽是单独计算批量中每个样本的偏导数之和。"
   ]
  },
  {
   "cell_type": "code",
   "execution_count": 26,
   "id": "5723ff1e",
   "metadata": {},
   "outputs": [
    {
     "data": {
      "text/plain": [
       "tensor([0., 2., 4., 6.])"
      ]
     },
     "execution_count": 26,
     "metadata": {},
     "output_type": "execute_result"
    }
   ],
   "source": [
    "# 对⾮标量调⽤backward需要传⼊⼀个gradient参数，该参数指定微分函数关于self的梯度。\n",
    "# 本例只想求偏导数的和，所以传递⼀个1的梯度是合适的\n",
    "x.grad.zero_()\n",
    "y = x * x\n",
    "# 等价于y.backward(torch.ones(len(x)))\n",
    "y.sum().backward()\n",
    "x.grad"
   ]
  },
  {
   "cell_type": "markdown",
   "id": "77b7ff89",
   "metadata": {},
   "source": []
  }
 ],
 "metadata": {
  "kernelspec": {
   "display_name": "myd2l",
   "language": "python",
   "name": "myd2l"
  },
  "language_info": {
   "codemirror_mode": {
    "name": "ipython",
    "version": 3
   },
   "file_extension": ".py",
   "mimetype": "text/x-python",
   "name": "python",
   "nbconvert_exporter": "python",
   "pygments_lexer": "ipython3",
   "version": "3.9.16"
  }
 },
 "nbformat": 4,
 "nbformat_minor": 5
}
