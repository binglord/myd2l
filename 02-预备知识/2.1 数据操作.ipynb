{
 "cells": [
  {
   "cell_type": "markdown",
   "id": "3f6c8a89",
   "metadata": {},
   "source": [
    "## 2.1数据操作\n",
    "为了能够完成各种数据操作，我们需要某种⽅法来存储和操作数据。通常，我们需要做两件重要的事：（1）\n",
    "获取数据；（2）将数据读⼊计算机后对其进⾏处理。如果没有某种⽅法来存储数据，那么获取数据是没有意\n",
    "义的。\\\n",
    "⾸先，我们介绍n维数组，也称为张量（tensor）。使⽤过Python中NumPy计算包的读者会对本部分很熟悉。\n",
    "⽆论使⽤哪个深度学习框架，它的张量类（在MXNet中为ndarray，在PyTorch和TensorFlow中为Tensor）都\n",
    "与Numpy的ndarray类似。但深度学习框架⼜⽐Numpy的ndarray多⼀些重要功能：⾸先， GPU很好地⽀持加\n",
    "速计算，⽽NumPy仅⽀持CPU计算；其次，张量类⽀持⾃动微分。这些功能使得张量类更适合深度学习。\n",
    "### 2.1.1 入门\n",
    "了解并运行一些基本数值计算⼯具。"
   ]
  },
  {
   "cell_type": "code",
   "execution_count": null,
   "id": "3b904bb1",
   "metadata": {},
   "outputs": [],
   "source": [
    "# 导入pytorch\n",
    "import torch\n"
   ]
  }
 ],
 "metadata": {
  "kernelspec": {
   "display_name": "myd2l",
   "language": "python",
   "name": "myd2l"
  },
  "language_info": {
   "codemirror_mode": {
    "name": "ipython",
    "version": 3
   },
   "file_extension": ".py",
   "mimetype": "text/x-python",
   "name": "python",
   "nbconvert_exporter": "python",
   "pygments_lexer": "ipython3",
   "version": "3.9.16"
  }
 },
 "nbformat": 4,
 "nbformat_minor": 5
}
